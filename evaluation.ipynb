{
 "cells": [
  {
   "cell_type": "markdown",
   "id": "34813ebf-6b49-48b0-a976-a4538cce3ec2",
   "metadata": {},
   "source": [
    "### Import libraries"
   ]
  },
  {
   "cell_type": "code",
   "execution_count": null,
   "id": "8716f7d9-1c74-4269-9c9d-f39f3ac50eb1",
   "metadata": {},
   "outputs": [],
   "source": [
    "import yaml\n",
    "import numpy as np\n",
    "import torch\n",
    "import torch.nn as nn\n",
    "import torch.nn.functional as F\n",
    "\n",
    "from utils.setup_utils import (\n",
    "    get_configs,\n",
    "    init_configs,\n",
    "    init_settings,\n",
    ")\n",
    "from datasets.maker import DatasetMaker\n",
    "from models.maker import ModelMaker\n",
    "from torch.utils.data import DataLoader\n",
    "from glob import glob\n",
    "from tqdm import tqdm\n",
    "from sklearn.metrics import accuracy_score\n",
    "import time\n",
    "import datetime\n",
    "import scipy.stats as stats\n",
    "\n",
    "import matplotlib.pyplot as plt\n",
    "%matplotlib inline"
   ]
  },
  {
   "cell_type": "markdown",
   "id": "68f7c797-9d56-4109-b28a-6706b89be55b",
   "metadata": {},
   "source": [
    "### Configs"
   ]
  },
  {
   "cell_type": "code",
   "execution_count": null,
   "id": "d05bc6de-7d3e-47ec-ae6a-f77821b08800",
   "metadata": {},
   "outputs": [],
   "source": [
    "args = get_configs()\n",
    "args = init_configs(args)\n",
    "init_settings(args)\n",
    "\n",
    "args.WEIGHT_PATH = \"lightning_logs/version_0/checkpoints\""
   ]
  },
  {
   "cell_type": "markdown",
   "id": "ab90488c-86fd-4d58-8170-ab91a69a8c91",
   "metadata": {
    "jp-MarkdownHeadingCollapsed": true
   },
   "source": [
    "### Load data utils"
   ]
  },
  {
   "cell_type": "code",
   "execution_count": null,
   "id": "2ef5ae58-2f88-4930-b56e-ed5befd6405b",
   "metadata": {},
   "outputs": [],
   "source": [
    "class EvalDatasetMaker(DatasetMaker):\n",
    "    def load_data(self, args, transform, target_subject = None):\n",
    "        train_dataset = self.dataset(\n",
    "            args=args,\n",
    "            target_subject=target_subject,\n",
    "            is_test=False,\n",
    "            transform=transform,\n",
    "        )\n",
    "        train_dataloader = DataLoader(\n",
    "            train_dataset,\n",
    "            batch_size=args.batch_size,\n",
    "            shuffle=False,\n",
    "            num_workers=args.num_workers,\n",
    "            pin_memory=True,\n",
    "            drop_last=False,\n",
    "        )\n",
    "\n",
    "        test_dataset = self.dataset(\n",
    "            args=args,\n",
    "            target_subject=target_subject,\n",
    "            is_test=True,\n",
    "            transform=transform,\n",
    "        )\n",
    "        test_dataloader = DataLoader(\n",
    "            test_dataset,\n",
    "            batch_size=args.batch_size,\n",
    "            shuffle=False,\n",
    "            num_workers=args.num_workers,\n",
    "            pin_memory=True,\n",
    "            drop_last=False,\n",
    "        )\n",
    "\n",
    "        return train_dataloader, test_dataloader"
   ]
  },
  {
   "cell_type": "code",
   "execution_count": null,
   "id": "10d7fbea-c4af-40f7-8ad5-12e8634d5be8",
   "metadata": {},
   "outputs": [],
   "source": [
    "def load_data(target_subject, args):\n",
    "\n",
    "    dataset = EvalDatasetMaker(args.dataset)\n",
    "    train_dataloader, test_dataloader = dataset.load_data(\n",
    "        args, transform=None, target_subject=target_subject\n",
    "    )\n",
    "\n",
    "    return train_dataloader, test_dataloader"
   ]
  },
  {
   "cell_type": "code",
   "execution_count": null,
   "id": "4827bfce-9fa9-4b8d-a2bb-80836778da6d",
   "metadata": {},
   "outputs": [],
   "source": [
    "def make_dataset(dataloader):\n",
    "    datas, labels = [], []\n",
    "    for data, label in dataloader:\n",
    "        datas.append(data.numpy())\n",
    "        labels.append(label.numpy())\n",
    "    return np.concatenate(datas), np.concatenate(labels)"
   ]
  },
  {
   "cell_type": "code",
   "execution_count": null,
   "id": "0b2b1bd9-c7b2-4cdf-b624-627455a7cfcd",
   "metadata": {},
   "outputs": [],
   "source": [
    "def classwise_divide(data, label):\n",
    "    key_map = {0: 'left', 1: 'right', 2: 'foot', 3: 'tongue'}\n",
    "    class_dict = {}\n",
    "    for c in list(set(label)):\n",
    "\n",
    "        c_idx = np.where(label == c)\n",
    "        c_data = data[c_idx].squeeze()\n",
    "\n",
    "        class_dict[key_map[c]] = c_data\n",
    "    return class_dict"
   ]
  },
  {
   "cell_type": "markdown",
   "id": "e9951879-60ea-429e-9489-86d9d1261659",
   "metadata": {
    "jp-MarkdownHeadingCollapsed": true
   },
   "source": [
    "### Load Data"
   ]
  },
  {
   "cell_type": "code",
   "execution_count": null,
   "id": "3fc6c6fa-8fac-4497-927c-74272b66fb9f",
   "metadata": {},
   "outputs": [],
   "source": [
    "train_dataloader, test_dataloader = load_data(target_subject=0, args=args)\n",
    "\n",
    "train_data, train_labels = make_dataset(train_dataloader)\n",
    "test_data, test_labels = make_dataset(test_dataloader)\n",
    "\n",
    "train_dict = classwise_divide(train_data, train_labels)\n",
    "test_dict = classwise_divide(test_data, test_labels)"
   ]
  },
  {
   "cell_type": "markdown",
   "id": "2c0c4806-209c-4e5e-b26d-068508eb0ebe",
   "metadata": {
    "jp-MarkdownHeadingCollapsed": true
   },
   "source": [
    "### Load Model"
   ]
  },
  {
   "cell_type": "code",
   "execution_count": null,
   "id": "8e7cc041-127b-4eb3-b572-a30c226a4b6e",
   "metadata": {},
   "outputs": [],
   "source": [
    "class EvalModelMaker(ModelMaker):\n",
    "    def load_ckpt(self, model, path):\n",
    "        checkpoint = torch.load(path, map_location='cpu')\n",
    "        state_dict = checkpoint['state_dict']\n",
    "\n",
    "        for k in list(state_dict.keys()):\n",
    "            if k.startswith('model.'):\n",
    "                state_dict[k[len('model.') :]] = state_dict[k]\n",
    "\n",
    "            del state_dict[k]\n",
    "\n",
    "        msg = model.load_state_dict(state_dict, strict=False)\n",
    "        print(msg)\n",
    "\n",
    "        return model"
   ]
  },
  {
   "cell_type": "code",
   "execution_count": null,
   "id": "73ed3bfb-6561-4971-aaf3-271b76950a53",
   "metadata": {},
   "outputs": [],
   "source": [
    "CKPT_DIR = f'{args.CKPT_PATH}/{args.WEIGHT_PATH}'\n",
    "ckpt_list = sorted(glob(CKPT_DIR + '/*.ckpt'))\n",
    "ckpt_path = ckpt_list[0]"
   ]
  },
  {
   "cell_type": "code",
   "execution_count": null,
   "id": "3e829308-05c1-41e0-8fb5-c7e07665c85b",
   "metadata": {},
   "outputs": [],
   "source": [
    "model_maker = EvalModelMaker(args.model, args.litmodel)\n",
    "encoder = model_maker.encoder(args)\n",
    "model = model_maker.load_ckpt(encoder, ckpt_path)\n",
    "model.to(args.device)\n",
    "model.eval()"
   ]
  },
  {
   "cell_type": "markdown",
   "id": "3f53fb81-676c-4167-834f-3c3cbc668728",
   "metadata": {},
   "source": [
    "### Evaluation"
   ]
  },
  {
   "cell_type": "code",
   "execution_count": null,
   "id": "09277dc4-459b-4e19-ba69-260830475094",
   "metadata": {},
   "outputs": [],
   "source": [
    "def torch2np(x_torch):\n",
    "    x_np = x_torch.detach().cpu().numpy() # ndarray\n",
    "    return x_np"
   ]
  },
  {
   "cell_type": "code",
   "execution_count": null,
   "id": "719d26fe-746d-4fca-b76e-663d949befe7",
   "metadata": {},
   "outputs": [],
   "source": [
    "def pbs(model, criterion, data, labels, iters, alpha):\n",
    "    attacked_datas = []\n",
    "    adv_data = data.clone().detach()\n",
    "    \n",
    "    for i in range(iters):\n",
    "        attacked_datas.append(adv_data.cpu().numpy())\n",
    "        adv_data.requires_grad = True\n",
    "        outputs = model(adv_data)\n",
    "        \n",
    "        cost = criterion(outputs, labels).to(data.device)\n",
    "        grad = torch.autograd.grad(cost, adv_data, retain_graph=True, create_graph=True)[0]\n",
    "        \n",
    "        adv_data = adv_data.detach() + alpha * grad.sign()\n",
    "        adv_data = torch.clamp(adv_data, min=0, max=1).detach()\n",
    "    return adv_data, np.stack(attacked_datas, axis=1)"
   ]
  },
  {
   "cell_type": "code",
   "execution_count": null,
   "id": "33483521-cc3e-4ee3-9185-14dfefd847c1",
   "metadata": {
    "scrolled": true
   },
   "outputs": [],
   "source": [
    "preds = []\n",
    "attack_preds = []\n",
    "batch_size = 1024\n",
    "num_iters = 100\n",
    "all_probs = []\n",
    "start_time = time.time()\n",
    "\n",
    "b, _, c, t = train_data.shape\n",
    "significance_level = 0.05\n",
    "stds = train_data.std()\n",
    "f_critical_low = stats.f.ppf(significance_level / 2, b * c * t - 1, b * c * t - 1)\n",
    "lower_bound = stds * np.sqrt(f_critical_low)\n",
    "alpha = stds - lower_bound\n",
    "\n",
    "\n",
    "for idx in tqdm(range(0, train_data.shape[0], batch_size)):\n",
    "    \n",
    "    data = torch.tensor(train_data[idx :idx + batch_size, ...], dtype=torch.float).to(args.device)\n",
    "    label = train_labels[idx :idx + batch_size, ...]\n",
    "    labels = torch.tensor(train_labels[idx :idx + batch_size, ...]).to(args.device)\n",
    "    attacked_data, attacked_datas = pbs(model, nn.CrossEntropyLoss(), data, labels, iters=num_iters, alpha=alpha)\n",
    "\n",
    "    for data_list, label in zip(attacked_datas, label):\n",
    "        logit = model(torch.tensor(data_list, dtype=torch.float).to(args.device))\n",
    "        probs = F.softmax(logit, dim=1)[:, label]\n",
    "        all_probs.append(torch2np(probs))\n",
    "    \n",
    "    pred = torch.argmax(model(data), dim=1)\n",
    "    preds.append(pred)\n",
    "    \n",
    "    attack_pred = torch.argmax(model(attacked_data), dim=1)\n",
    "    attack_preds.append(attack_pred)\n",
    "\n",
    "    torch.cuda.empty_cache()\n",
    "\n",
    "end_time = time.time()\n",
    "\n",
    "sec = (end_time - start_time)\n",
    "result = datetime.timedelta(seconds=sec)\n",
    "print(f'GPU time: {result}')\n",
    "\n",
    "preds = torch.concat(preds).detach().cpu().numpy()\n",
    "attack_preds = torch.concat(attack_preds).detach().cpu().numpy()\n",
    "all_probs = np.stack(all_probs)\n",
    "confidence_scores = all_probs.sum(1) / num_iters"
   ]
  },
  {
   "cell_type": "code",
   "execution_count": null,
   "id": "4cd6d02c-eaa4-4ca0-8ed7-9e2f9a97f22a",
   "metadata": {},
   "outputs": [],
   "source": [
    "plt.figure(figsize=(15, 15))\n",
    "for i in range(len(all_probs)):\n",
    "    plt.plot(all_probs[i], c='blue', alpha=0.1)\n",
    "plt.ylim(0, 1)\n",
    "plt.show()"
   ]
  },
  {
   "cell_type": "code",
   "execution_count": null,
   "id": "0941af66-70ac-4331-a034-78e3e74cf3d3",
   "metadata": {},
   "outputs": [],
   "source": [
    "accuracy_score(train_labels, preds), accuracy_score(train_labels, attack_preds), sum(train_labels == preds), sum(train_labels == attack_preds)"
   ]
  },
  {
   "cell_type": "code",
   "execution_count": null,
   "id": "82c67de5-014d-414d-9063-e0bfdf6e4221",
   "metadata": {},
   "outputs": [],
   "source": [
    "data = torch2np(data)\n",
    "attacked_data = torch2np(attacked_data)\n",
    "\n",
    "plt.figure(figsize=(20, 5))\n",
    "\n",
    "plt.subplot(3, 1, 1)\n",
    "plt.imshow(data[0, 0])\n",
    "\n",
    "plt.subplot(3, 1, 2)\n",
    "plt.imshow(attacked_data[0, 0])\n",
    "\n",
    "plt.subplot(3, 1, 3)\n",
    "plt.imshow(data[0, 0] - attacked_data[0, 0])\n",
    "\n",
    "plt.show()"
   ]
  },
  {
   "cell_type": "code",
   "execution_count": null,
   "id": "68ccc262-69c2-4385-8911-91b020b05c42",
   "metadata": {},
   "outputs": [],
   "source": [
    "for subject_idx in range(9):\n",
    "    score_index = []\n",
    "    for i in range(288 * 2 * 9):\n",
    "        if i >= subject_idx * 576 and i < (subject_idx + 1) * 576:\n",
    "            continue\n",
    "\n",
    "        \n",
    "        score_index.append(i)\n",
    "    score_index = np.array(score_index)\n",
    "\n",
    "    np.save(f'./scores/pbs/bcic2a/S{subject_idx:02d}', confidence_scores[score_index])\n",
    "    "
   ]
  },
  {
   "cell_type": "code",
   "execution_count": null,
   "id": "741f9acf-b287-46c5-8fb9-c4857e0a08d2",
   "metadata": {},
   "outputs": [],
   "source": []
  }
 ],
 "metadata": {
  "kernelspec": {
   "display_name": "Python 3 (ipykernel)",
   "language": "python",
   "name": "python3"
  },
  "language_info": {
   "codemirror_mode": {
    "name": "ipython",
    "version": 3
   },
   "file_extension": ".py",
   "mimetype": "text/x-python",
   "name": "python",
   "nbconvert_exporter": "python",
   "pygments_lexer": "ipython3",
   "version": "3.11.9"
  }
 },
 "nbformat": 4,
 "nbformat_minor": 5
}
